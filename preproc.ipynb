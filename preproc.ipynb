{
 "cells": [
  {
   "cell_type": "code",
   "execution_count": 1,
   "metadata": {},
   "outputs": [
    {
     "name": "stdout",
     "output_type": "stream",
     "text": [
      "[('the', 0.9673323631286621), ('year', 0.966518759727478), ('and', 0.9659223556518555), ('its', 0.96538245677948), ('are', 0.9650532007217407), ('growth', 0.9647828936576843), ('it', 0.9647703766822815), ('n', 0.9646201729774475), ('of', 0.9644312858581543), ('in', 0.9640411734580994)]\n"
     ]
    }
   ],
   "source": [
    "import re\n",
    "import nltk\n",
    "from gensim.models import Word2Vec\n",
    "from zipfile import ZipFile\n",
    "\n",
    "#чтение данных из архива\n",
    "archive = ZipFile('bbc-fulltext.zip', 'r')\n",
    "fileNames = archive.namelist()\n",
    "fileTexts = [archive.read(name) for name in archive.namelist()]\n",
    "\n",
    "#преобразование данных к нужному виду\n",
    "string = ' '.join([str(item) for item in fileTexts])\n",
    "processed_article = string.lower()\n",
    "\n",
    "processed_article = re.sub('[^a-zA-Z]', ' ', processed_article)\n",
    "processed_article = re.sub(r'\\s+', ' ', processed_article)\n",
    "\n",
    "#подготовка параметров для векторизации\n",
    "all_sentences = nltk.sent_tokenize(processed_article)\n",
    "all_words = [nltk.word_tokenize(sent) for sent in all_sentences]\n",
    "\n",
    "#применение библиотеки w2v\n",
    "w2v_model = Word2Vec(all_words, min_count=2)\n",
    "\n",
    "#проверка - найти слова, похожие на time\n",
    "sim_words = w2v_model.wv.most_similar('time')\n",
    "print(sim_words)"
   ]
  }
 ],
 "metadata": {
  "interpreter": {
   "hash": "4eaf1be304415beee96765ae99c3f893cc8312c7f1196698e6029668e9aeb3e5"
  },
  "kernelspec": {
   "display_name": "Python 3.9.4 64-bit",
   "language": "python",
   "name": "python3"
  },
  "language_info": {
   "codemirror_mode": {
    "name": "ipython",
    "version": 3
   },
   "file_extension": ".py",
   "mimetype": "text/x-python",
   "name": "python",
   "nbconvert_exporter": "python",
   "pygments_lexer": "ipython3",
   "version": "3.9.9"
  },
  "orig_nbformat": 4
 },
 "nbformat": 4,
 "nbformat_minor": 2
}
